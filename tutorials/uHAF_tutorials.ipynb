{
 "cells": [
  {
   "cell_type": "markdown",
   "id": "18cd2b17",
   "metadata": {},
   "source": [
    "# Tutorials on how to get uhaf nodes with uhaf package\n",
    "\n",
    "You can also browse uHAF-Ts on https://uhaf.unifiedcellatlas.org  \n",
    "You can map custom cell type labels on uHAF-Ts by https://uhaf.unifiedcellatlas.org/#/uHAFMapping"
   ]
  },
  {
   "cell_type": "code",
   "execution_count": 1,
   "id": "6d87e5d6",
   "metadata": {},
   "outputs": [],
   "source": [
    "import sys\n",
    "import os\n",
    "import pandas as pd"
   ]
  },
  {
   "cell_type": "code",
   "execution_count": 2,
   "id": "fadb047f",
   "metadata": {},
   "outputs": [],
   "source": [
    "import uhaf as uhaflib"
   ]
  },
  {
   "cell_type": "code",
   "execution_count": null,
   "id": "bad20448",
   "metadata": {},
   "outputs": [
    {
     "name": "stdout",
     "output_type": "stream",
     "text": [
      "Using the latest uHAF version: 2.2.0\n",
      "No sheetnames specified, generating uHAF of every organ\n"
     ]
    }
   ],
   "source": [
    "uhaf = uhaflib.build_uhaf(latest=True) "
   ]
  },
  {
   "cell_type": "code",
   "execution_count": 4,
   "id": "c323759b",
   "metadata": {},
   "outputs": [
    {
     "data": {
      "text/plain": [
       "50"
      ]
     },
     "execution_count": 4,
     "metadata": {},
     "output_type": "execute_result"
    }
   ],
   "source": [
    "len(uhaf.df_uhafs)"
   ]
  },
  {
   "cell_type": "markdown",
   "id": "00fe6f51",
   "metadata": {},
   "source": [
    "## Basic uHAF node tracing"
   ]
  },
  {
   "cell_type": "markdown",
   "id": "a860c9fe",
   "metadata": {},
   "source": [
    "track the target cell type, and get its all ancesters"
   ]
  },
  {
   "cell_type": "code",
   "execution_count": 9,
   "id": "ea247bf2",
   "metadata": {},
   "outputs": [
    {
     "data": {
      "text/plain": [
       "['Cell', 'Lymphocyte', 'T cell', 'CD8 T cell']"
      ]
     },
     "execution_count": 9,
     "metadata": {},
     "output_type": "execute_result"
    }
   ],
   "source": [
    "uhaf.track_cell_from_uHAF(sheet_name='Lung',cell_type_target='CD8 T cell')"
   ]
  },
  {
   "cell_type": "markdown",
   "id": "0403e13a",
   "metadata": {},
   "source": [
    "## Annotation level retreive from uHAF"
   ]
  },
  {
   "cell_type": "code",
   "execution_count": 10,
   "id": "3d1d7d3f",
   "metadata": {},
   "outputs": [],
   "source": [
    "annotation_level = 1 \n",
    "# 1: main cell type level; \n",
    "# 2: middle cell type level; \n",
    "# 3: fine cell type level (query cell types themselves)));\n"
   ]
  },
  {
   "cell_type": "code",
   "execution_count": null,
   "id": "76ab4d3d",
   "metadata": {},
   "outputs": [],
   "source": [
    "# you should use mapped cell types from uHAF-Agent to replace the original cell types in the dataset metadata, and use them here:\n",
    "example_cell_types = [ \n",
    " 'Pericyte',\n",
    " 'Macrophage',\n",
    " 'Monocyte-derived macrophage',\n",
    " 'Monocyte',\n",
    " 'Dendritic cell',]\n",
    "\n",
    "organ = 'Heart'"
   ]
  },
  {
   "cell_type": "code",
   "execution_count": null,
   "id": "fce882dc",
   "metadata": {},
   "outputs": [
    {
     "name": "stdout",
     "output_type": "stream",
     "text": [
      "{'Pericyte': 'Pericyte', 'Macrophage': 'Myeloid cell', 'Monocyte-derived macrophage': 'Myeloid cell', 'Monocyte': 'Myeloid cell', 'Dendritic cell': 'Myeloid cell'}\n"
     ]
    }
   ],
   "source": [
    "# uhaf.set_annotation_level returns a dictionary, show the pair of fine celltype and its anntation level's cell type\n",
    "cut_level_annotations_MCT = uhaf.set_annotation_level(example_cell_types, \n",
    "                                                  sheet_name = 'Heart', \n",
    "                                                  annotation_level = annotation_level)\n",
    "\n",
    "print(cut_level_annotations_MCT)"
   ]
  },
  {
   "cell_type": "code",
   "execution_count": null,
   "id": "25efd51e",
   "metadata": {},
   "outputs": [],
   "source": []
  },
  {
   "cell_type": "code",
   "execution_count": 22,
   "id": "dee5fcc9",
   "metadata": {},
   "outputs": [
    {
     "name": "stdout",
     "output_type": "stream",
     "text": [
      "{'Pericyte': 'Pericyte', 'Macrophage': 'Macrophage', 'Monocyte-derived macrophage': 'Macrophage', 'Monocyte': 'Monocyte', 'Dendritic cell': 'Dendritic cell'}\n"
     ]
    }
   ],
   "source": [
    "cut_level_annotations_fine = uhaf.set_annotation_level(example_cell_types, \n",
    "                                                  sheet_name = 'Heart', \n",
    "                                                  annotation_level = 2)\n",
    "\n",
    "print(cut_level_annotations_fine)"
   ]
  },
  {
   "cell_type": "code",
   "execution_count": 23,
   "id": "f67b892d",
   "metadata": {},
   "outputs": [
    {
     "data": {
      "text/plain": [
       "{'Pericyte': 'Pericyte',\n",
       " 'Macrophage': 'Myeloid cell',\n",
       " 'Monocyte-derived macrophage': 'Myeloid cell',\n",
       " 'Monocyte': 'Myeloid cell',\n",
       " 'Dendritic cell': 'Myeloid cell'}"
      ]
     },
     "execution_count": 23,
     "metadata": {},
     "output_type": "execute_result"
    }
   ],
   "source": [
    "cut_level_annotations_MCT"
   ]
  },
  {
   "cell_type": "code",
   "execution_count": 24,
   "id": "db6e7387",
   "metadata": {},
   "outputs": [
    {
     "data": {
      "text/plain": [
       "{'Pericyte': 'Pericyte',\n",
       " 'Macrophage': 'Macrophage',\n",
       " 'Monocyte-derived macrophage': 'Macrophage',\n",
       " 'Monocyte': 'Monocyte',\n",
       " 'Dendritic cell': 'Dendritic cell'}"
      ]
     },
     "execution_count": 24,
     "metadata": {},
     "output_type": "execute_result"
    }
   ],
   "source": [
    "cut_level_annotations_fine"
   ]
  },
  {
   "cell_type": "markdown",
   "id": "1415a6d5",
   "metadata": {},
   "source": [
    "## Generate uHAF-Agent prompts with given cell types"
   ]
  },
  {
   "cell_type": "code",
   "execution_count": 43,
   "id": "8cc08f8e",
   "metadata": {},
   "outputs": [],
   "source": [
    "# you should unique your original cell type labels in the used dataset\n",
    "original_anno = ['V-CM',\n",
    " 'LA-CM',\n",
    " 'RA-CM',\n",
    " 'V-FB',\n",
    " 'A-FB',\n",
    " 'Capillary-EC',\n",
    " 'AS-EC',\n",
    " 'Arteriole-EC',\n",
    " 'Veinule-EC',\n",
    " 'Lymphatic-EC']"
   ]
  },
  {
   "cell_type": "code",
   "execution_count": 44,
   "id": "28c01cd1",
   "metadata": {},
   "outputs": [
    {
     "data": {
      "text/plain": [
       "['V-CM',\n",
       " 'LA-CM',\n",
       " 'RA-CM',\n",
       " 'V-FB',\n",
       " 'A-FB',\n",
       " 'Capillary-EC',\n",
       " 'AS-EC',\n",
       " 'Arteriole-EC',\n",
       " 'Veinule-EC',\n",
       " 'Lymphatic-EC']"
      ]
     },
     "execution_count": 44,
     "metadata": {},
     "output_type": "execute_result"
    }
   ],
   "source": [
    "original_anno"
   ]
  },
  {
   "cell_type": "code",
   "execution_count": 58,
   "id": "95b27089",
   "metadata": {},
   "outputs": [],
   "source": [
    "expert_map = {'V-CM': 'Ventricle cardiomyocyte cell',\n",
    " 'LA-CM': 'Atrial cardiomyocyte cell',\n",
    " 'RA-CM': 'Atrial cardiomyocyte cell',\n",
    " 'V-FB': 'Fibroblast',\n",
    " 'A-FB': 'Fibroblast',\n",
    " 'Capillary-EC': 'Capillary endothelial cell',\n",
    " 'AS-EC': 'Endothelial cell',\n",
    " 'Arteriole-EC': 'Arterial endothelial cell',\n",
    " 'Veinule-EC': 'Venous endothelial cell',\n",
    " 'Lymphatic-EC': 'Lymphatic endothelial cell'}"
   ]
  },
  {
   "cell_type": "code",
   "execution_count": 48,
   "id": "6c66f7e7",
   "metadata": {},
   "outputs": [],
   "source": [
    "test_cell_type_list = original_anno"
   ]
  },
  {
   "cell_type": "code",
   "execution_count": 49,
   "id": "13a7e44c",
   "metadata": {},
   "outputs": [
    {
     "name": "stdout",
     "output_type": "stream",
     "text": [
      "The cell types are: \n",
      "['V-CM', 'LA-CM', 'RA-CM', 'V-FB', 'A-FB', 'Capillary-EC', 'AS-EC', 'Arteriole-EC', 'Veinule-EC', 'Lymphatic-EC'].Copy the above cell types and paste them on the website (https://uhaf.unifiedcellatlas.org/#/uHAFMapping) to get the corresponding mapping dictionary.\n"
     ]
    }
   ],
   "source": [
    "print(uhaf.generate_uhaf_Agent_prompts('Heart',test_cell_type_list))\n",
    "\n",
    "# put the cell types into uHAF-Agent (https://uhaf.unifiedcellatlas.org/#/uHAFMapping)\n",
    "\n",
    "# you can copy the mapping dict to transfer your labels"
   ]
  },
  {
   "cell_type": "code",
   "execution_count": null,
   "id": "dfd354fd",
   "metadata": {},
   "outputs": [],
   "source": [
    "# copy the mapping dict from the website.\n",
    "mapping_results_from_uHAFAgent = {\"A-FB\":\"Activated fibroblast\",\"AS-EC\":\"Artery endothelial cell\",\"Arteriole-EC\":\"Artery endothelial cell\",\"Capillary-EC\":\"Capillary endothelial cell\",\"LA-CM\":\"Atrial cardiomyocyte cell\",\"Lymphatic-EC\":\"Lymphatic endothelial cell\",\"RA-CM\":\"Atrial cardiomyocyte cell\",\"V-CM\":\"Ventricle cardiomyocyte cell\",\"V-FB\":\"Fibroblast\",\"Veinule-EC\":\"Vein endothelial cell\"}"
   ]
  },
  {
   "cell_type": "code",
   "execution_count": null,
   "id": "5a6605f3",
   "metadata": {},
   "outputs": [
    {
     "data": {
      "text/plain": [
       "{'A-FB': 'Activated fibroblast',\n",
       " 'AS-EC': 'Artery endothelial cell',\n",
       " 'Arteriole-EC': 'Artery endothelial cell',\n",
       " 'Capillary-EC': 'Capillary endothelial cell',\n",
       " 'LA-CM': 'Atrial cardiomyocyte cell',\n",
       " 'Lymphatic-EC': 'Lymphatic endothelial cell',\n",
       " 'RA-CM': 'Atrial cardiomyocyte cell',\n",
       " 'V-CM': 'Ventricle cardiomyocyte cell',\n",
       " 'V-FB': 'Fibroblast',\n",
       " 'Veinule-EC': 'Vein endothelial cell'}"
      ]
     },
     "execution_count": 56,
     "metadata": {},
     "output_type": "execute_result"
    }
   ],
   "source": [
    "mapping_results_from_uHAFAgent\n",
    "# then you can transform your original label to uhaf nodes"
   ]
  },
  {
   "cell_type": "markdown",
   "id": "5925501b",
   "metadata": {},
   "source": [
    "## Generate uHAF-T in nest json/dict format"
   ]
  },
  {
   "cell_type": "code",
   "execution_count": 57,
   "id": "bb223fd7",
   "metadata": {},
   "outputs": [
    {
     "name": "stdout",
     "output_type": "stream",
     "text": [
      "{'Cell': {'Adipocyte': {'Unilocular adipocyte': {}, 'Multilocular adipocyte': {}}, 'Cardiomyocyte cell': {'Ventricle cardiomyocyte cell': {}, 'Atrial cardiomyocyte cell': {}, 'conduction-system cell': {'Purkinje cell': {}, 'Sinoatrial node P cell': {}, 'Atrioventricular node bundle cell': {}, 'Atrioventricular node P cell': {}}}, 'Endothelial cell': {'Lymphatic endothelial cell': {}, 'Vascular endothelial cell': {'Artery endothelial cell': {}, 'Capillary endothelial cell': {}, 'Vein endothelial cell': {}}, 'Endocardial cell': {}}, 'Mesothelial cell': {}, 'Fibroblast': {'Activated fibroblast': {}, 'Fibrocyte': {}}, 'Smooth muscle cell': {}, 'Pericyte': {}, 'Lymphoid cell': {'T cell': {'CD4 T cell': {'Activated CD4 T cell': {}, 'Naive CD4 T cell': {}, 'Regulatory CD4 T cell': {}, 'CD4 T helper': {}}, 'CD8 T cell': {'Memory CD8 T cell': {}, 'Effector CD8 T cell': {}, 'CD8 T te cell': {}, 'CD8 T trans cell': {}}, 'NK T cell': {}, 'MAIT cell': {}, 'gdT': {}}, 'B cell': {'Plasma B cell': {}}, 'NK cell': {}, 'ILC': {}}, 'Myeloid cell': {'Megakaryocyte': {}, 'Dendritic cell': {}, 'Monocyte': {}, 'Macrophage': {'Proliferating macrophage': {}, 'Monocyte-derived macrophage': {}, 'Tissue-resident macrophage': {}}, 'Neutrophilic granulocyte': {}, 'Mast cell': {}}, 'Erythrocyte': {}, 'Neuron': {}, 'Neuroglial cell': {'Schwann cell': {}}}}\n"
     ]
    }
   ],
   "source": [
    "print(uhaf.dict_uhafs['Heart'])"
   ]
  },
  {
   "cell_type": "code",
   "execution_count": 59,
   "id": "dc8a34c6",
   "metadata": {},
   "outputs": [
    {
     "name": "stdout",
     "output_type": "stream",
     "text": [
      "{'Cell': {'Endothelial cell': {'Capillary endothelial cell': {}, 'Vein endothelial cell': {}, 'Lymphatic endothelial cell': {}, 'Artery endothelial cell': {}, 'Aerocyte': {}, 'Tip cell': {}, 'Stalk cell': {}}, 'Acinar cell': {}, 'Chondrocyte': {}, 'Neuroendocrine cell': {}, 'Submucosal gland cell': {}, 'Epithelial cell': {'Tuft cell': {}, 'Secretory cell': {}, 'Goblet cell': {}, 'Alveolar cell': {'Type I alveolar cell': {}, 'Type II alveolar cell': {}}, 'Ciliated cell': {}, 'Basal cell': {}, 'Ionocyte cell': {}, 'Epithelial progenitor cell': {}, 'Squamous cell': {}, 'FOXN4+ cell': {}, 'Deuterosomal cell': {}, 'Brush cell': {}}, 'Myeloid cell': {'Mast cell': {}, 'Neutrophilic granulocyte': {}, 'Eosinophilic granulocyte': {}, 'Basophilic granulocyte': {}, 'Promyelocyte': {}, 'Dendritic cell': {'Conventional dendritic cell': {}, 'Plasmacytoid dendritic cell': {}, 'Mature dendritic cell': {}, 'Migratory dendritic cell': {}}, 'Monocyte': {'Classical monocyte': {}, 'Non-classical monocyte': {}, 'Alveolar macrophage': {}, 'Promonocyte': {}}, 'Macrophage': {'Erythrophagocytic macrophage': {}, 'Intermediate macrophage': {}}, 'Megakaryocyte': {}, 'Megakaryocyte–erythroid progenitor cell': {}, 'Granulocyte-monocyte progenitor cell': {}, 'Hematopoietic progenitor cell': {}, 'Common myeloid progenitor cell': {}, 'Erythroid-like cell': {}}, 'Smooth muscle cell': {'Vascular smooth muscle cell': {}, 'Bronchial smooth muscle cell': {}}, 'Mesothelial cell': {}, 'Mesenchymal cell': {}, 'Pericyte': {}, 'Schwann cell': {}, 'Neuron': {}, 'Fibroblast': {'Myofibroblast': {}, 'Alveolar fibroblast': {}, 'Adventitial fibroblast': {}, 'Airway fibroblast': {}}, 'Lymphocyte': {'B cell': {'Plasma B cell': {}, 'Plasmablast cell': {}, 'Naive B cell': {}, 'Memory B cell': {}, 'Immature B cell': {}, 'Mature B cell': {}, 'Follicular B cell': {}, 'Transitional B cell': {}, 'Germinal center B cell': {}, 'Pre-B cell': {}, 'Pro-B cell': {}}, 'T cell': {'Exhausted T cell': {}, 'CD4 T cell': {'Naive CD4 T cell': {}, 'Memory CD4 T cell': {}, 'Effector CD4 memory T cell': {}}, 'NKT cell': {}, 'Treg cell': {}, 'T helper cell': {'Th1 cell': {}, 'Th2 cell': {}, 'Th9 cell': {}, 'Th17 cell': {}, 'Follicular helper T cell': {}}, 'CD8 T cell': {'Naive CD8 T cell': {}, 'Memory CD8 T cell': {}, 'Effector CD8 memory T cell': {}}, 'Cytotoxic T cell': {}, 'Effector T cell': {}, 'MAIT cell': {}, 'Cycling T cell': {}}, 'NK cell': {}, 'Innate lymphoid cell': {}, 'Lymphoid progenitor cell': {}}}}\n"
     ]
    }
   ],
   "source": [
    "print(uhaf.dict_uhafs['Lung'])"
   ]
  }
 ],
 "metadata": {
  "kernelspec": {
   "display_name": "uhaf",
   "language": "python",
   "name": "uhaf"
  },
  "language_info": {
   "codemirror_mode": {
    "name": "ipython",
    "version": 3
   },
   "file_extension": ".py",
   "mimetype": "text/x-python",
   "name": "python",
   "nbconvert_exporter": "python",
   "pygments_lexer": "ipython3",
   "version": "3.11.10"
  },
  "toc": {
   "base_numbering": 1,
   "nav_menu": {},
   "number_sections": true,
   "sideBar": true,
   "skip_h1_title": false,
   "title_cell": "Table of Contents",
   "title_sidebar": "Contents",
   "toc_cell": false,
   "toc_position": {},
   "toc_section_display": true,
   "toc_window_display": false
  }
 },
 "nbformat": 4,
 "nbformat_minor": 5
}
